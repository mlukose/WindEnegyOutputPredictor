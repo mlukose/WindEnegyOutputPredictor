{
 "cells": [
  {
   "cell_type": "code",
   "execution_count": 1,
   "id": "bcc43521",
   "metadata": {},
   "outputs": [],
   "source": [
    "# This notebook aims to Apply KNN to the Weather Station Data and take the average of those clusters to \n",
    "# fill in the missing values from the weather station data"
   ]
  },
  {
   "cell_type": "code",
   "execution_count": 9,
   "id": "bb6d6ee1",
   "metadata": {},
   "outputs": [],
   "source": [
    "import pandas as pd\n",
    "import numpy as np\n",
    "from sklearn.neighbors import KNeighborsRegressor"
   ]
  },
  {
   "cell_type": "code",
   "execution_count": 10,
   "id": "65cc7948",
   "metadata": {},
   "outputs": [],
   "source": [
    "data = pd.read_csv(\"weather_station_data_updated.csv\")"
   ]
  },
  {
   "cell_type": "code",
   "execution_count": 11,
   "id": "303318a2",
   "metadata": {},
   "outputs": [
    {
     "name": "stdout",
     "output_type": "stream",
     "text": [
      "<class 'pandas.core.frame.DataFrame'>\n",
      "RangeIndex: 453138 entries, 0 to 453137\n",
      "Data columns (total 12 columns):\n",
      " #   Column     Non-Null Count   Dtype  \n",
      "---  ------     --------------   -----  \n",
      " 0   tavg       342866 non-null  float64\n",
      " 1   tmin       354263 non-null  float64\n",
      " 2   tmax       354009 non-null  float64\n",
      " 3   prcp       283351 non-null  float64\n",
      " 4   wspd       295828 non-null  float64\n",
      " 5   pres       202943 non-null  float64\n",
      " 6   tsun       2229 non-null    float64\n",
      " 7   latitude   453138 non-null  float64\n",
      " 8   longitude  453138 non-null  float64\n",
      " 9   elevation  453138 non-null  float64\n",
      " 10  state      453103 non-null  object \n",
      " 11  time       453138 non-null  object \n",
      "dtypes: float64(10), object(2)\n",
      "memory usage: 41.5+ MB\n"
     ]
    }
   ],
   "source": [
    "data.info()"
   ]
  },
  {
   "cell_type": "code",
   "execution_count": 18,
   "id": "7dc3261c",
   "metadata": {},
   "outputs": [],
   "source": [
    "# Create a copy of the original DataFrame\n",
    "data_imputed = data.copy()\n",
    "\n",
    "# Separate rows with and without missing 'pressure' values\n",
    "non_missing_data = data.dropna(subset=['pres'])\n",
    "missing_data = data[data['pres'].isna()]\n",
    "\n",
    "# Define features (latitude and longitude) and target (pressure) for training the KNN model\n",
    "X_non_missing = non_missing_data[['latitude', 'longitude']]\n",
    "y_non_missing = non_missing_data['pres']\n",
    "\n",
    "# Use KNN to find nearest neighbors based on latitude and longitude\n",
    "knn_imputer = KNeighborsRegressor(n_neighbors=4, weights='distance')\n",
    "knn_imputer.fit(X_non_missing, y_non_missing)\n",
    "\n",
    "# Predict (impute) missing pressure values\n",
    "X_missing = missing_data[['latitude', 'longitude']]\n",
    "imputed_values = knn_imputer.predict(X_missing)\n",
    "\n",
    "# Fill missing 'pressure' values in the new DataFrame\n",
    "data_imputed.loc[data_imputed['pres'].isna(), 'pres'] = imputed_values\n",
    "\n",
    "\n"
   ]
  },
  {
   "cell_type": "code",
   "execution_count": 20,
   "id": "a7a63f75",
   "metadata": {},
   "outputs": [
    {
     "name": "stdout",
     "output_type": "stream",
     "text": [
      "<class 'pandas.core.frame.DataFrame'>\n",
      "RangeIndex: 453138 entries, 0 to 453137\n",
      "Data columns (total 12 columns):\n",
      " #   Column     Non-Null Count   Dtype  \n",
      "---  ------     --------------   -----  \n",
      " 0   tavg       342866 non-null  float64\n",
      " 1   tmin       354263 non-null  float64\n",
      " 2   tmax       354009 non-null  float64\n",
      " 3   prcp       283351 non-null  float64\n",
      " 4   wspd       295828 non-null  float64\n",
      " 5   pres       453138 non-null  float64\n",
      " 6   tsun       2229 non-null    float64\n",
      " 7   latitude   453138 non-null  float64\n",
      " 8   longitude  453138 non-null  float64\n",
      " 9   elevation  453138 non-null  float64\n",
      " 10  state      453103 non-null  object \n",
      " 11  time       453138 non-null  object \n",
      "dtypes: float64(10), object(2)\n",
      "memory usage: 41.5+ MB\n"
     ]
    }
   ],
   "source": [
    "data_imputed.info()"
   ]
  },
  {
   "cell_type": "code",
   "execution_count": 19,
   "id": "863390e2",
   "metadata": {},
   "outputs": [],
   "source": [
    "data_imputed.to_csv('ws_4n.csv', index = False)"
   ]
  },
  {
   "cell_type": "code",
   "execution_count": null,
   "id": "3ea7975a",
   "metadata": {},
   "outputs": [],
   "source": []
  }
 ],
 "metadata": {
  "kernelspec": {
   "display_name": "Python 3 (ipykernel)",
   "language": "python",
   "name": "python3"
  },
  "language_info": {
   "codemirror_mode": {
    "name": "ipython",
    "version": 3
   },
   "file_extension": ".py",
   "mimetype": "text/x-python",
   "name": "python",
   "nbconvert_exporter": "python",
   "pygments_lexer": "ipython3",
   "version": "3.9.12"
  }
 },
 "nbformat": 4,
 "nbformat_minor": 5
}
