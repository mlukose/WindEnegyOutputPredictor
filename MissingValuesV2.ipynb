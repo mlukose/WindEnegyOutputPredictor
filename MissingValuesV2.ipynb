{
 "cells": [
  {
   "cell_type": "code",
   "execution_count": null,
   "metadata": {},
   "outputs": [
    {
     "name": "stdout",
     "output_type": "stream",
     "text": [
      "Working with index: 0\n",
      "Working with index: 1000\n",
      "Working with index: 2000\n",
      "Working with index: 3000\n",
      "Working with index: 4000\n"
     ]
    }
   ],
   "source": [
    "import pandas as pd\n",
    "import numpy as np\n",
    "from sklearn.neighbors import NearestNeighbors\n",
    "\n",
    "data = pd.read_csv(\"Data/weather_station_data_updated.csv\")\n",
    "data[\"time\"] = pd.to_datetime(data[\"time\"])\n",
    "\n",
    "columns_to_average = [\"tavg\", \"tmin\", \"tmax\", \"prcp\", \"wspd\", \"pres\", \"elevation\"]\n",
    "\n",
    "distance_threshold = 240  # Roughly 100 miles\n",
    "EARTH_RADIUS_KM = 6378.0\n",
    "\n",
    "data['latitude_rad'] = np.radians(data['latitude'])\n",
    "data['longitude_rad'] = np.radians(data['longitude'])\n",
    "\n",
    "nn = NearestNeighbors(metric='haversine')\n",
    "nn.fit(data[[\"latitude_rad\", \"longitude_rad\"]])\n",
    "\n",
    "for index in range(len(data)):\n",
    "    if index%1000 == 0:\n",
    "        print(f\"Working with index: {index}\")\n",
    "\n",
    "\n",
    "\n",
    "    row = data.iloc[index]\n",
    "    month_data = data[(data[\"time\"].dt.month == row[\"time\"].month) & (data[\"time\"].dt.year == row[\"time\"].year)].drop(index)\n",
    "\n",
    "    if month_data.empty:\n",
    "        #print(f\"Skipping index {index} due to no matching month data.\")\n",
    "        continue\n",
    "\n",
    "    nn.fit(month_data[[\"latitude_rad\", \"longitude_rad\"]])\n",
    "\n",
    "    query_point = pd.DataFrame(\n",
    "        [[row[\"latitude_rad\"], row[\"longitude_rad\"]]], \n",
    "        columns=[\"latitude_rad\", \"longitude_rad\"]\n",
    "    )\n",
    "    distances, indices = nn.kneighbors(\n",
    "        query_point,\n",
    "        n_neighbors=min(50, len(month_data)),\n",
    "        return_distance=True\n",
    "    )\n",
    "\n",
    "    distances_km = distances.flatten() * EARTH_RADIUS_KM\n",
    "\n",
    "    if np.max(distances_km) > distance_threshold:\n",
    "        #print(f\"Skipping averages for index {index} due to distance exceeding threshold.\")\n",
    "        averages = {col: np.nan for col in columns_to_average}\n",
    "    else:\n",
    "        neighbor_indices = indices.flatten()\n",
    "        neighbors = month_data.iloc[neighbor_indices]\n",
    "\n",
    "        averages = {\n",
    "            col: round(neighbors[col].dropna().head(3).mean(), 2) if len(neighbors[col].dropna()) >= 3 else np.nan\n",
    "            for col in columns_to_average\n",
    "        }\n",
    "\n",
    "    for col in columns_to_average:\n",
    "        if pd.isna(row[col]):\n",
    "            data.at[index, col] = averages[col]\n",
    "\n",
    "    #print(f\"Averages for row {index}:\", averages)\n",
    "\n",
    "updated_data = data.copy()\n",
    "#updated_data.to_csv(\"Data/updated_weather_station_data.csv\", index=False)\n"
   ]
  },
  {
   "cell_type": "code",
   "execution_count": null,
   "metadata": {},
   "outputs": [],
   "source": []
  }
 ],
 "metadata": {
  "kernelspec": {
   "display_name": "base",
   "language": "python",
   "name": "python3"
  },
  "language_info": {
   "codemirror_mode": {
    "name": "ipython",
    "version": 3
   },
   "file_extension": ".py",
   "mimetype": "text/x-python",
   "name": "python",
   "nbconvert_exporter": "python",
   "pygments_lexer": "ipython3",
   "version": "3.12.7"
  }
 },
 "nbformat": 4,
 "nbformat_minor": 2
}
